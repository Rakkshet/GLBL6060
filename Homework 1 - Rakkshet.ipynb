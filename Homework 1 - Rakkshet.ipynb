{
 "cells": [
  {
   "cell_type": "markdown",
   "metadata": {},
   "source": [
    "## Homework 1"
   ]
  },
  {
   "cell_type": "markdown",
   "metadata": {},
   "source": [
    "1. What is a markdown cell in jupyter notebook and how do I change a cell from a markdown cell to a code cell? Use a markdown cell type for this answer."
   ]
  },
  {
   "cell_type": "markdown",
   "metadata": {},
   "source": [
    "Markdown cells allow users to write in plain text instead of a code. A cell can be changed into markdown in a couple of ways:\n",
    "\n",
    "1. Navigate to the menu, select \"Cell,\" then choose \"Cell Type,\" and finally, click on \"Markdown\"\n",
    "2. Press \"esc,\" followed by \"M,\" and then hit enter"
   ]
  },
  {
   "cell_type": "markdown",
   "metadata": {},
   "source": [
    "2. In Python, what is the difference between =(single equal) and == (double equal)? Please give an example of each."
   ]
  },
  {
   "cell_type": "markdown",
   "metadata": {},
   "source": [
    "A single equal sign (=) is used for assignment of obersation. Whereas, two consecutive equal signs (==) are used for equality."
   ]
  },
  {
   "cell_type": "code",
   "execution_count": 1,
   "metadata": {},
   "outputs": [
    {
     "name": "stdout",
     "output_type": "stream",
     "text": [
      "20\n"
     ]
    },
    {
     "data": {
      "text/plain": [
       "False"
      ]
     },
     "execution_count": 1,
     "metadata": {},
     "output_type": "execute_result"
    }
   ],
   "source": [
    "a = 20\n",
    "print(a)\n",
    "\n",
    "b = 25\n",
    "equality = (a==b)\n",
    "equality"
   ]
  },
  {
   "cell_type": "markdown",
   "metadata": {},
   "source": [
    "3. If I am commenting on my code in a cell, what are the two ways to do this in Python?"
   ]
  },
  {
   "cell_type": "markdown",
   "metadata": {},
   "source": [
    "The two ways are:\n",
    "\n",
    "1. Single-line Comments with #\n",
    "    Ex. # Comment 1\n",
    "2. Multi-line Comments with Triple Quotes (''' or \"\"\")\n",
    "    Ex. '''\n",
    "        Comment 2\n",
    "        '''"
   ]
  },
  {
   "cell_type": "markdown",
   "metadata": {},
   "source": [
    "4. Assign your name, your Yale program, and your year of graduation equal to variables of your choosing. Then write a print statement using an \"f string\" that says \"Hello, my name is (name). I am in Yale's (program) and I hope to graduate in (year).\""
   ]
  },
  {
   "cell_type": "code",
   "execution_count": 2,
   "metadata": {},
   "outputs": [
    {
     "name": "stdout",
     "output_type": "stream",
     "text": [
      "Hello, my name is Rakkshet. I am in Yale's IDE and I hope to graduate in 2024.\n"
     ]
    }
   ],
   "source": [
    "name = \"Rakkshet\"\n",
    "program = \"IDE\"\n",
    "year = 2024\n",
    "\n",
    "print(f\"Hello, my name is {name}. I am in Yale's {program} and I hope to graduate in {year}.\")"
   ]
  },
  {
   "cell_type": "markdown",
   "metadata": {},
   "source": [
    "5. Write the mathematical operators for the following using a markdown cell type and give a code example of each:\n",
    "\n",
    "For example: plus: + , 3 + 4\n",
    "\n",
    "minus: - , 5 - 2\n",
    "\n",
    "multiply: * , 5 * 2\n",
    "\n",
    "divide: / , 5/2\n",
    "\n",
    "find the remainder of two numbers divided: % , 5%2\n",
    "\n",
    "square: (as in 3 squared is 9): **2 , 5**2\n",
    "\n",
    "cube: (as in 2 cubed is 8): **3 , 5**3\n",
    "\n",
    "greater than: > , 5>2\n",
    "\n",
    "greater than or equal to: >= , 5>=2\n",
    "\n",
    "less than: < , 5<2\n",
    "\n",
    "less than or equal to: <= , 5<=2"
   ]
  },
  {
   "cell_type": "markdown",
   "metadata": {},
   "source": [
    "6. What is the built-in Python function to determine the type of an object? Give four examples of using this function on four different object types."
   ]
  },
  {
   "cell_type": "code",
   "execution_count": 3,
   "metadata": {},
   "outputs": [
    {
     "data": {
      "text/plain": [
       "str"
      ]
     },
     "execution_count": 3,
     "metadata": {},
     "output_type": "execute_result"
    }
   ],
   "source": [
    "x = \"a\"\n",
    "y = 1\n",
    "z = 1.23\n",
    "\n",
    "type(x)"
   ]
  },
  {
   "cell_type": "code",
   "execution_count": 4,
   "metadata": {},
   "outputs": [
    {
     "data": {
      "text/plain": [
       "int"
      ]
     },
     "execution_count": 4,
     "metadata": {},
     "output_type": "execute_result"
    }
   ],
   "source": [
    "type(y)"
   ]
  },
  {
   "cell_type": "code",
   "execution_count": 5,
   "metadata": {},
   "outputs": [
    {
     "data": {
      "text/plain": [
       "float"
      ]
     },
     "execution_count": 5,
     "metadata": {},
     "output_type": "execute_result"
    }
   ],
   "source": [
    "type(z)"
   ]
  },
  {
   "cell_type": "code",
   "execution_count": 6,
   "metadata": {},
   "outputs": [
    {
     "data": {
      "text/plain": [
       "bool"
      ]
     },
     "execution_count": 6,
     "metadata": {},
     "output_type": "execute_result"
    }
   ],
   "source": [
    "type(equality) #From question 2"
   ]
  },
  {
   "cell_type": "markdown",
   "metadata": {},
   "source": [
    "7. Use the \"replace\" method in python so that the following occurs:\n",
    "\n",
    "greeting = \"Hello there students!\"\n",
    "becomes\n",
    "print(greeting)\n",
    "output: \"Hello there Pythonistas!\""
   ]
  },
  {
   "cell_type": "code",
   "execution_count": 7,
   "metadata": {},
   "outputs": [
    {
     "name": "stdout",
     "output_type": "stream",
     "text": [
      "Hello there Pythonistas!\n"
     ]
    }
   ],
   "source": [
    "greeting = \"Hello there students!\"\n",
    "new_greeting = greeting.replace(\"students\", \"Pythonistas\")\n",
    "print(new_greeting)"
   ]
  },
  {
   "cell_type": "markdown",
   "metadata": {},
   "source": [
    "8.In the following code:\n",
    "agreement = \"Paris Agreement\" \n",
    "agreement.replace(\"Paris\", \"Moon\") \n",
    "print(agreement)\n",
    "\n",
    "The output is \"Paris Agreement\", not \"Moon Agreement\"\n",
    "\n",
    "Please explain why that is the case. \n"
   ]
  },
  {
   "cell_type": "markdown",
   "metadata": {},
   "source": [
    "The reason the output is still \"Paris Agreement\" is that the replace method does not modify the original string in-place. In order to print \"Moon Agreement,\" we can undertake two approches:\n",
    "\n",
    "1. Assigning agreement.replace(\"Paris\", \"Moon\"), to a new variable (or even agreement again) and printing it. \n",
    "2. You can directly print agreement.replace(\"Paris\", \"Moon\")."
   ]
  },
  {
   "cell_type": "markdown",
   "metadata": {},
   "source": [
    "9. Now fix the code using the replace method so that:\n",
    "   agreement = \"Paris Agreement\"\n",
    "   when you write:\n",
    "   print(agreement)\n",
    "   output is \"Moon Agreement\""
   ]
  },
  {
   "cell_type": "code",
   "execution_count": 8,
   "metadata": {},
   "outputs": [
    {
     "name": "stdout",
     "output_type": "stream",
     "text": [
      "Moon Agreement\n"
     ]
    }
   ],
   "source": [
    "agreement = \"Paris Agreement\" \n",
    "agreement = agreement.replace(\"Paris\", \"Moon\")\n",
    "print(agreement)"
   ]
  },
  {
   "cell_type": "markdown",
   "metadata": {},
   "source": [
    "10. Please explain why the statement returns \"False\" and write code that fixes the error:\n",
    "\n",
    ".3 + .3 + .3 == .9"
   ]
  },
  {
   "cell_type": "markdown",
   "metadata": {},
   "source": [
    "It is due to the fact that in Python numbers in decimals are taken as floats and as a result when adding 0.3 three times, it will not be equal to 0.9"
   ]
  },
  {
   "cell_type": "code",
   "execution_count": 9,
   "metadata": {},
   "outputs": [
    {
     "data": {
      "text/plain": [
       "True"
      ]
     },
     "execution_count": 9,
     "metadata": {},
     "output_type": "execute_result"
    }
   ],
   "source": [
    "#multiply both side\n",
    "(.3 + .3 + .3)*10 == .9*10"
   ]
  },
  {
   "cell_type": "markdown",
   "metadata": {},
   "source": [
    "11. I want to make a tip calculator. Step one:\n",
    "Please use the input method to accept an input from a user prompting them with \"Please enter a price of the meal\" and save\n",
    " it to the variable \"price\""
   ]
  },
  {
   "cell_type": "code",
   "execution_count": 12,
   "metadata": {},
   "outputs": [
    {
     "name": "stdout",
     "output_type": "stream",
     "text": [
      "Please enter the price of the meal:102\n",
      "Please enter the percentage you want to give in tip (in %):20\n",
      "Tip Amount: 20\n",
      "Total: 122.4\n"
     ]
    }
   ],
   "source": [
    "price = float(input(\"Please enter the price of the meal:\"))\n",
    "tip_percentage = float(input(\"Please enter the percentage you want to give in tip (in %):\"))\n",
    "\n",
    "tip_amount = price * (tip_percentage/100)\n",
    "total = price + tip_amount\n",
    "\n",
    "print(\"Tip Amount:\", round(tip_amount))\n",
    "print(\"Total:\", total)"
   ]
  },
  {
   "cell_type": "markdown",
   "metadata": {},
   "source": [
    "12. Here is a script I wrote for a tip calculator:\n",
    "                        \n",
    "price = input(\"Please enter the price of the meal: \" )\n",
    "\n",
    "tip = price * 0.22\n",
    "\n",
    "total = price + tip\n",
    "\n",
    "print(\"A 16% tip would be: \", tip)\n",
    "\n",
    "print(\"The total including tip would be: \", total)\n",
    "\n",
    "The problem is it throws an error! Can you look at this code and see why it is throwing an error without running it? "
   ]
  },
  {
   "cell_type": "markdown",
   "metadata": {},
   "source": [
    "It is throwing an error because input function returns a string, but in order to calculate tip, we need the input to be numerical type (like float)"
   ]
  },
  {
   "cell_type": "markdown",
   "metadata": {},
   "source": [
    "13. Please fix the above code and run it:"
   ]
  },
  {
   "cell_type": "code",
   "execution_count": 15,
   "metadata": {},
   "outputs": [
    {
     "name": "stdout",
     "output_type": "stream",
     "text": [
      "Please enter the price of the meal: 190\n",
      "A 16% tip would be:  41.8\n",
      "The total including tip would be:  232\n"
     ]
    }
   ],
   "source": [
    "price = float(input(\"Please enter the price of the meal: \" ))\n",
    "\n",
    "tip = price * 0.22\n",
    "\n",
    "total = price + tip\n",
    "\n",
    "print(\"A 16% tip would be: \", tip)\n",
    "\n",
    "print(\"The total including tip would be: \", round(total))"
   ]
  },
  {
   "cell_type": "markdown",
   "metadata": {},
   "source": [
    "14. Write a script that takes a user inputted string and checks whether if they are the following\n",
    "\n",
    "if it is all alphabets\n",
    "if it is numeric\n",
    "if it is all upper case\n",
    "if it is all lower case"
   ]
  },
  {
   "cell_type": "code",
   "execution_count": 17,
   "metadata": {},
   "outputs": [
    {
     "name": "stdout",
     "output_type": "stream",
     "text": [
      "Please enter a string: Yale\n",
      "The input consists of all alphabets.\n",
      "The input has both uppercase and lowercase.\n"
     ]
    }
   ],
   "source": [
    "answer = input(\"Please enter a string: \")\n",
    "\n",
    "if answer.isalpha():\n",
    "    print(\"The input consists of all alphabets.\")\n",
    "    \n",
    "    if any(char.isupper() for char in answer) and any(char.islower() for char in answer):\n",
    "        print(\"The input has both uppercase and lowercase.\")\n",
    "    elif answer.isupper():\n",
    "        print(\"The input is in all uppercase.\")\n",
    "    elif answer.islower():\n",
    "        print(\"The input is in all lowercase.\")\n",
    "\n",
    "elif answer.isnumeric():\n",
    "    print(\"The input is numeric.\")\n",
    "else:\n",
    "    print(\"The input doesn't match any of the specified conditions.\")"
   ]
  },
  {
   "cell_type": "markdown",
   "metadata": {},
   "source": [
    "15. Write a script that takes a user inputted target_string of your chosing and prints it out in the following three formats.\n",
    "\n",
    "All letters capitalized - capitalize( )\n",
    "All letters lowercase - lower( )\n",
    "All vowels lowercase and all consonants uppercase "
   ]
  },
  {
   "cell_type": "code",
   "execution_count": 18,
   "metadata": {},
   "outputs": [
    {
     "name": "stdout",
     "output_type": "stream",
     "text": [
      "Please enter a string: Yale\n",
      "YALE\n",
      "yale\n",
      "YaLe\n"
     ]
    }
   ],
   "source": [
    "def transform_string(answer):\n",
    "    letters = \"\"\n",
    "    vowels = \"aeiouAEIOU\"\n",
    "    for char in answer:\n",
    "        if char in vowels:\n",
    "            letters += char.lower()\n",
    "        else:\n",
    "            letters += char.upper()\n",
    "    return letters\n",
    "\n",
    "answer = input(\"Please enter a string: \")\n",
    "\n",
    "capitalized_string = answer.upper()\n",
    "lowercase_string = answer.lower()\n",
    "transformed_string = transform_string(answer)\n",
    "\n",
    "print(capitalized_string)\n",
    "print(lowercase_string)\n",
    "print(transformed_string)"
   ]
  },
  {
   "cell_type": "markdown",
   "metadata": {},
   "source": [
    "16. Assuming a package is not part of the Anaconda build of Python used, how would I:\n",
    "a. install a package from my terminal? \n",
    "b. install a package from my Jupyter notebook ? \n",
    "c. import a package ? \n",
    "d. what happens when if I write \"import this\" but don't name a package? (run it below)"
   ]
  },
  {
   "cell_type": "markdown",
   "metadata": {},
   "source": [
    "a. !pip install package_name\n",
    "\n",
    "b. pip install package_name\n",
    "\n",
    "c. import package_name\n",
    "\n",
    "d. It prints \"The Zen of Python\" by Tim Petersm."
   ]
  },
  {
   "cell_type": "markdown",
   "metadata": {},
   "source": [
    "17.statement= 'It's truly one of my favorite quotes: \"Success depends on intuition, on seeing what afterwards proves to be true but cannot be established at the moment.\" To whom is the previous quote atributed?"
   ]
  },
  {
   "cell_type": "markdown",
   "metadata": {},
   "source": [
    "Schumpeter JA (1934) The theory of economic development: an inquiry into profits capital credit interest and the business cycle. Harvard University Press, Cambridge"
   ]
  },
  {
   "cell_type": "markdown",
   "metadata": {},
   "source": [
    "18. Copy the code above to the cell below. Run it. Why is it throwing an error? Please fix it."
   ]
  },
  {
   "cell_type": "code",
   "execution_count": 19,
   "metadata": {},
   "outputs": [
    {
     "name": "stdout",
     "output_type": "stream",
     "text": [
      "It's truly one of my favorite quotes: \"Success depends on intuition, on seeing what afterwards proves to be true but cannot be established at the moment\"\n"
     ]
    }
   ],
   "source": [
    "#The string has single quote which are ending abruptly. It can be fixed by:\n",
    "\n",
    "statement= 'It\\'s truly one of my favorite quotes: \"Success depends on intuition, on seeing what afterwards proves to be true but cannot be established at the moment\"'\n",
    "print(statement)"
   ]
  },
  {
   "cell_type": "markdown",
   "metadata": {},
   "source": [
    "19. Write code, using the strip() method  to remove the white spaces from the beginning and the end of the following and print below:\n",
    "\n"
   ]
  },
  {
   "cell_type": "code",
   "execution_count": 20,
   "metadata": {},
   "outputs": [
    {
     "name": "stdout",
     "output_type": "stream",
     "text": [
      "Hi students. What's going on?!\n"
     ]
    }
   ],
   "source": [
    "greeting = \"   Hi students. What's going on?!       \"\n",
    "print(greeting.strip())"
   ]
  },
  {
   "cell_type": "markdown",
   "metadata": {},
   "source": [
    "20. (2pt) How do you convert a string to all lowercase? Give an example."
   ]
  },
  {
   "cell_type": "code",
   "execution_count": 21,
   "metadata": {},
   "outputs": [
    {
     "name": "stdout",
     "output_type": "stream",
     "text": [
      "yale university\n"
     ]
    }
   ],
   "source": [
    "answer = \"Yale University\"\n",
    "lowercase_string = answer.lower()\n",
    "print(lowercase_string)"
   ]
  },
  {
   "cell_type": "markdown",
   "metadata": {},
   "source": [
    "21. (2pt)How do you convert a string to a list in python? Give an example."
   ]
  },
  {
   "cell_type": "code",
   "execution_count": 22,
   "metadata": {},
   "outputs": [
    {
     "name": "stdout",
     "output_type": "stream",
     "text": [
      "['Y', 'a', 'l', 'e', ' ', 'U', 'n', 'i', 'v', 'e', 'r', 's', 'i', 't', 'y']\n"
     ]
    }
   ],
   "source": [
    "string = \"Yale University\"\n",
    "list_string = list(string)\n",
    "print(list_string)"
   ]
  },
  {
   "cell_type": "markdown",
   "metadata": {},
   "source": [
    "22. (2pt) How do you convert a string to a tuple in python? Give an example."
   ]
  },
  {
   "cell_type": "code",
   "execution_count": 23,
   "metadata": {},
   "outputs": [
    {
     "name": "stdout",
     "output_type": "stream",
     "text": [
      "('Y', 'a', 'l', 'e', ' ', 'U', 'n', 'i', 'v', 'e', 'r', 's', 'i', 't', 'y')\n"
     ]
    }
   ],
   "source": [
    "string = \"Yale University\"\n",
    "tuple_string = tuple(string)\n",
    "print(tuple_string)"
   ]
  },
  {
   "cell_type": "markdown",
   "metadata": {},
   "source": [
    "23. (2pt) How do you convert a string to an int in python? Give an example."
   ]
  },
  {
   "cell_type": "code",
   "execution_count": 24,
   "metadata": {},
   "outputs": [
    {
     "name": "stdout",
     "output_type": "stream",
     "text": [
      "1701\n"
     ]
    }
   ],
   "source": [
    "string = \"Yale University 1701\"\n",
    "numeric_in_string = ''.join(char for char in string if char.isnumeric())\n",
    "\n",
    "int_string = int(numeric_in_string)\n",
    "print(int_string)"
   ]
  },
  {
   "cell_type": "markdown",
   "metadata": {},
   "source": [
    "24. (2pt) How do you convert a string to a float in python? Give an example."
   ]
  },
  {
   "cell_type": "code",
   "execution_count": 25,
   "metadata": {},
   "outputs": [
    {
     "name": "stdout",
     "output_type": "stream",
     "text": [
      "1701.0\n"
     ]
    }
   ],
   "source": [
    "string = \"Yale University 1701\"\n",
    "numeric_in_string = ''.join(char for char in string if char.isnumeric())\n",
    "float_string = float(numeric_in_string)\n",
    "print(float_string)"
   ]
  },
  {
   "cell_type": "markdown",
   "metadata": {},
   "source": [
    "25. (2pt) What are Python's dictionaries? Give an example of a great use for dictionaries.Give an example."
   ]
  },
  {
   "cell_type": "markdown",
   "metadata": {},
   "source": [
    "Dictionaries are a data structure that allows users to store and retrieve key-value pairs. Dictionaries could be used to store information about a students. Each student in a school can be represented as a dictionary with attributes like grade, courses, year, and student ID."
   ]
  },
  {
   "cell_type": "markdown",
   "metadata": {},
   "source": [
    "26. (2pt) Create a dictionary with keys and values. Give an example."
   ]
  },
  {
   "cell_type": "code",
   "execution_count": 26,
   "metadata": {},
   "outputs": [
    {
     "name": "stdout",
     "output_type": "stream",
     "text": [
      "Student's name: Rakkshet\n",
      "Student's age: 24\n",
      "Student's courses: ['Economics', 'Python', 'Health Policy']\n"
     ]
    }
   ],
   "source": [
    "student_info = {\"name\": \"Rakkshet\",\"age\": 24,\"courses\": [\"Economics\", \"Python\", \"Health Policy\"]}\n",
    "\n",
    "print(\"Student's name:\", student_info[\"name\"])\n",
    "print(\"Student's age:\", student_info[\"age\"])\n",
    "print(\"Student's courses:\", student_info[\"courses\"])"
   ]
  },
  {
   "cell_type": "markdown",
   "metadata": {},
   "source": [
    "27. (2pt) How do you get all the values from the dictionary? Give an example."
   ]
  },
  {
   "cell_type": "code",
   "execution_count": 27,
   "metadata": {},
   "outputs": [
    {
     "data": {
      "text/plain": [
       "dict_values(['Rakkshet', 24, ['Economics', 'Python', 'Health Policy']])"
      ]
     },
     "execution_count": 27,
     "metadata": {},
     "output_type": "execute_result"
    }
   ],
   "source": [
    "student_info.values()"
   ]
  },
  {
   "cell_type": "markdown",
   "metadata": {},
   "source": [
    "28. (2pt) How do you get all the keys from the dictionary? Give an example."
   ]
  },
  {
   "cell_type": "code",
   "execution_count": 28,
   "metadata": {},
   "outputs": [
    {
     "data": {
      "text/plain": [
       "dict_keys(['name', 'age', 'courses'])"
      ]
     },
     "execution_count": 28,
     "metadata": {},
     "output_type": "execute_result"
    }
   ],
   "source": [
    "student_info.keys()"
   ]
  },
  {
   "cell_type": "markdown",
   "metadata": {},
   "source": [
    "29. (2pt) How do you capitalizes first letter of string? Give an example."
   ]
  },
  {
   "cell_type": "code",
   "execution_count": 29,
   "metadata": {},
   "outputs": [
    {
     "name": "stdout",
     "output_type": "stream",
     "text": [
      "Yale university\n"
     ]
    }
   ],
   "source": [
    "original_string = \"yale university\"\n",
    "capitalized_string = original_string.capitalize()\n",
    "\n",
    "print(capitalized_string)"
   ]
  },
  {
   "cell_type": "markdown",
   "metadata": {},
   "source": [
    "30. (2pt) How do you check in a string that all characters are digits? Give an example."
   ]
  },
  {
   "cell_type": "code",
   "execution_count": 31,
   "metadata": {},
   "outputs": [
    {
     "name": "stdout",
     "output_type": "stream",
     "text": [
      "Please enter a string: 866P\n",
      "All characters aren't digits.\n"
     ]
    }
   ],
   "source": [
    "answer = input(\"Please enter a string: \")\n",
    "\n",
    "if answer.isnumeric():\n",
    "    print(\"All characters are digits.\")\n",
    "else:\n",
    "    print(\"All characters aren't digits.\")"
   ]
  },
  {
   "cell_type": "markdown",
   "metadata": {},
   "source": [
    "31. (2pt) How do you check in a string that all characters are alphanumeric? Give an example."
   ]
  },
  {
   "cell_type": "code",
   "execution_count": 32,
   "metadata": {},
   "outputs": [
    {
     "name": "stdout",
     "output_type": "stream",
     "text": [
      "Please enter a string: $4\n",
      "Not all characters are alphanumeric.\n"
     ]
    }
   ],
   "source": [
    "answer = input(\"Please enter a string: \")\n",
    "\n",
    "if answer.isalnum():\n",
    "    print(\"All characters are alphanumeric.\")\n",
    "else:\n",
    "    print(\"Not all characters are alphanumeric.\")"
   ]
  },
  {
   "cell_type": "markdown",
   "metadata": {},
   "source": [
    "32. (2pt) How do you check in a string that all characters are in lowercase? Give an example."
   ]
  },
  {
   "cell_type": "code",
   "execution_count": 33,
   "metadata": {},
   "outputs": [
    {
     "name": "stdout",
     "output_type": "stream",
     "text": [
      "Please enter a string: yale\n",
      "All characters are lowercase.\n"
     ]
    }
   ],
   "source": [
    "answer = input(\"Please enter a string: \")\n",
    "\n",
    "if answer.islower():\n",
    "    print(\"All characters are lowercase.\")\n",
    "else:\n",
    "    print(\"Not all characters are lowercase.\")"
   ]
  },
  {
   "cell_type": "markdown",
   "metadata": {},
   "source": [
    "33. (2pt) How do you check in a string that all characters are not numbers. Give an example."
   ]
  },
  {
   "cell_type": "code",
   "execution_count": 34,
   "metadata": {},
   "outputs": [
    {
     "name": "stdout",
     "output_type": "stream",
     "text": [
      "Please enter a string: 9899\n",
      "All characters are numbers.\n"
     ]
    }
   ],
   "source": [
    "answer = input(\"Please enter a string: \")\n",
    "\n",
    "if not answer.isnumeric():\n",
    "    print(\"Not all characters are numbers.\")\n",
    "else:\n",
    "    print(\"All characters are numbers.\")"
   ]
  },
  {
   "cell_type": "markdown",
   "metadata": {},
   "source": [
    "33. (2pt) How do you get the length of the string? Give an example."
   ]
  },
  {
   "cell_type": "code",
   "execution_count": 35,
   "metadata": {},
   "outputs": [
    {
     "name": "stdout",
     "output_type": "stream",
     "text": [
      "Please enter a string: Yale University\n",
      "Length of the input: 15\n"
     ]
    }
   ],
   "source": [
    "answer = input(\"Please enter a string: \")\n",
    "\n",
    "length_of_input = len(answer)\n",
    "print(\"Length of the input:\", length_of_input)"
   ]
  },
  {
   "cell_type": "markdown",
   "metadata": {},
   "source": [
    "34. (2pt) How do you convert a string to all lowercase? Give an example."
   ]
  },
  {
   "cell_type": "code",
   "execution_count": 36,
   "metadata": {},
   "outputs": [
    {
     "name": "stdout",
     "output_type": "stream",
     "text": [
      "Please enter a string: Yale UNIVERSITY\n",
      "yale university\n"
     ]
    }
   ],
   "source": [
    "answer = input(\"Please enter a string: \")\n",
    "\n",
    "lower_string = answer.lower()\n",
    "print(lower_string)"
   ]
  },
  {
   "cell_type": "markdown",
   "metadata": {},
   "source": [
    "35. (2pt) How do you remove all leading whitespace in string? Give an example."
   ]
  },
  {
   "cell_type": "code",
   "execution_count": 37,
   "metadata": {},
   "outputs": [
    {
     "name": "stdout",
     "output_type": "stream",
     "text": [
      "YALE\n"
     ]
    }
   ],
   "source": [
    "answer = \"      YALE\"\n",
    "\n",
    "trimmed_string = answer.lstrip()\n",
    "print(trimmed_string)"
   ]
  },
  {
   "cell_type": "markdown",
   "metadata": {},
   "source": [
    "36. (2pt) What is the difference between del() and remove() methods of list? Give an example."
   ]
  },
  {
   "cell_type": "code",
   "execution_count": 38,
   "metadata": {},
   "outputs": [
    {
     "name": "stdout",
     "output_type": "stream",
     "text": [
      "['B', 'D', 'E']\n"
     ]
    }
   ],
   "source": [
    "#The del() and remove() method are both used to delete elements from a list in Python, but del() is used to delete a variable based on it's position, whereas remove() deletes the observation. \n",
    "\n",
    "list1 = [\"A\", \"B\", \"C\", \"D\", \"E\"]\n",
    "del list1[2]  # Deletes the element at index 2 i.e. C\n",
    "list1.remove(\"A\") # Deletes the element A\n",
    "print(list1)  "
   ]
  },
  {
   "cell_type": "markdown",
   "metadata": {},
   "source": [
    "37. (2pt) How do you get the index of an object in a list? Give an example."
   ]
  },
  {
   "cell_type": "code",
   "execution_count": 39,
   "metadata": {},
   "outputs": [
    {
     "name": "stdout",
     "output_type": "stream",
     "text": [
      "Index of D is 3\n"
     ]
    }
   ],
   "source": [
    "list1 = [\"A\", \"B\", \"C\", \"D\", \"E\"]\n",
    "\n",
    "index_D = list1.index(\"D\")\n",
    "\n",
    "print(f\"Index of D is {index_D}\")"
   ]
  },
  {
   "cell_type": "markdown",
   "metadata": {},
   "source": [
    "38. (2pt) How do you insert an object at given index in a list? Give an example."
   ]
  },
  {
   "cell_type": "code",
   "execution_count": 40,
   "metadata": {},
   "outputs": [
    {
     "name": "stdout",
     "output_type": "stream",
     "text": [
      "['A', 'B', 'C', 'D', 'E', 'F']\n"
     ]
    }
   ],
   "source": [
    "list1 = [\"A\", \"B\", \"C\", \"D\", \"E\"]\n",
    "\n",
    "insert_F = list1.insert(6, \"F\")\n",
    "\n",
    "print(list1)"
   ]
  },
  {
   "cell_type": "markdown",
   "metadata": {},
   "source": [
    "39. (2pt) How do you get the length of a list? Give an example."
   ]
  },
  {
   "cell_type": "code",
   "execution_count": 41,
   "metadata": {},
   "outputs": [
    {
     "data": {
      "text/plain": [
       "5"
      ]
     },
     "execution_count": 41,
     "metadata": {},
     "output_type": "execute_result"
    }
   ],
   "source": [
    "list1 = [\"A\", \"B\", \"C\", \"D\", \"E\"]\n",
    "len(list1)"
   ]
  },
  {
   "cell_type": "markdown",
   "metadata": {},
   "source": [
    "40. (2pt) How do you remove last object from a list?"
   ]
  },
  {
   "cell_type": "code",
   "execution_count": 42,
   "metadata": {},
   "outputs": [
    {
     "name": "stdout",
     "output_type": "stream",
     "text": [
      "['A', 'B', 'C', 'D']\n"
     ]
    }
   ],
   "source": [
    "list1 = [\"A\", \"B\", \"C\", \"D\", \"E\"]\n",
    "list1.pop()\n",
    "print(list1)"
   ]
  },
  {
   "cell_type": "markdown",
   "metadata": {},
   "source": [
    "41. (2pt) How do you reverse a list? Give an example."
   ]
  },
  {
   "cell_type": "code",
   "execution_count": 43,
   "metadata": {},
   "outputs": [
    {
     "name": "stdout",
     "output_type": "stream",
     "text": [
      "['E', 'D', 'C', 'B', 'A']\n"
     ]
    }
   ],
   "source": [
    "list1 = [\"A\", \"B\", \"C\", \"D\", \"E\"]\n",
    "list1.reverse()\n",
    "print(list1)"
   ]
  },
  {
   "cell_type": "markdown",
   "metadata": {},
   "source": [
    "42. (2pt) How would you slice a list? Give an example."
   ]
  },
  {
   "cell_type": "code",
   "execution_count": 44,
   "metadata": {},
   "outputs": [
    {
     "name": "stdout",
     "output_type": "stream",
     "text": [
      "['B', 'C']\n"
     ]
    }
   ],
   "source": [
    "list1 = [\"A\", \"B\", \"C\", \"D\", \"E\"]\n",
    "sublist1 = list1[1:3]\n",
    "print(sublist1)"
   ]
  },
  {
   "cell_type": "markdown",
   "metadata": {},
   "source": [
    "43. (10 pts) Iterate through a list and create a new list with only happy words. A happy is anything above the threshold. Print your happy word list without values (just words)."
   ]
  },
  {
   "cell_type": "code",
   "execution_count": 45,
   "metadata": {},
   "outputs": [
    {
     "name": "stdout",
     "output_type": "stream",
     "text": [
      "['overjoyed', 'blissful', 'chocolately']\n"
     ]
    }
   ],
   "source": [
    "threshold = 0.5\n",
    "feelings = [('blue', 0.1), ('melancholy',0.4), ('fine', 0.5 ), ('okay',0.5), ('overjoyed',1.0), ('blissful',0.9), ('chocolately',0.8)]\n",
    "\n",
    "happy_words = [word for word, score in feelings if score > threshold]\n",
    "\n",
    "print(happy_words)"
   ]
  },
  {
   "cell_type": "markdown",
   "metadata": {},
   "source": [
    "44. (5 pts) Take a user input that takes in a user's name, age.\n",
    "Create an f string that prints \"Hello \"name\", how does it feel to be \"age?\"\n",
    "Then create an answer that takes a random choice from your happy_word list, and print \"Gee, it feels \"answer\" to be \"age\". Thanks for asking!\"\n",
    "\n"
   ]
  },
  {
   "cell_type": "code",
   "execution_count": 46,
   "metadata": {
    "scrolled": true
   },
   "outputs": [
    {
     "name": "stdout",
     "output_type": "stream",
     "text": [
      "Please enter your name: Rakkshet\n",
      "Please enter your age: 24\n",
      "Hello Rakkshet, how does it feel to be 24?\n",
      "Gee, it feels blissful to be 24. Thanks for asking\n"
     ]
    }
   ],
   "source": [
    "import random\n",
    "\n",
    "name = input(\"Please enter your name: \")\n",
    "age = input(\"Please enter your age: \")\n",
    "\n",
    "answer = random.choice(happy_words)\n",
    "\n",
    "print(f\"Hello {name}, how does it feel to be {age}?\")\n",
    "print(f\"Gee, it feels {answer} to be {age}. Thanks for asking\")"
   ]
  },
  {
   "cell_type": "markdown",
   "metadata": {},
   "source": [
    "45. (5 pts) Convert the following quote to a single string assigned to the variable Brzezinski, without numbers or special characters. Print the output. Make sure you add quotation marks to the beginning and end of the quote.\n"
   ]
  },
  {
   "cell_type": "code",
   "execution_count": 47,
   "metadata": {},
   "outputs": [
    {
     "name": "stdout",
     "output_type": "stream",
     "text": [
      "\"Most Americans  are close to total ignorance about the world. They are ignorant. That is an unhealthy condition in a country in which foreign policy has to be endorsed by the people  if it is to be pursued. And  it makes it much more difficult for any president to pursue an intelligent  policy that does justice to the complexity of the world.\"\n"
     ]
    }
   ],
   "source": [
    "quote = [[('Most Americans ^331 are close to total ignorance about the world. They are ignorant. That is an unhealthy condition in a country in which foreign policy has to be endorsed by the people 402 if it is to be pursued. And 404 it makes it much more difficult for any president to pursue an intelligent %%&* policy that does justice to the complexity of the world.')]]\n",
    "\n",
    "import re\n",
    "\n",
    "quote_text = quote[0][0]\n",
    "\n",
    "cleaned_quote = re.sub(r'[^a-zA-Z.,\\s+]', '', quote_text)\n",
    "\n",
    "Brzezinski = f'\"{cleaned_quote}\"'\n",
    "\n",
    "print(Brzezinski)"
   ]
  },
  {
   "cell_type": "markdown",
   "metadata": {},
   "source": [
    "46. (1pts) There is a wikipedia package for Python! It makes it super easy to collect and parse entries. Install it and print a summary of the Marquis de Lafayette in French."
   ]
  },
  {
   "cell_type": "code",
   "execution_count": 49,
   "metadata": {},
   "outputs": [
    {
     "name": "stdout",
     "output_type": "stream",
     "text": [
      "Collecting wikipedia\n",
      "  Downloading wikipedia-1.4.0.tar.gz (27 kB)\n",
      "  Preparing metadata (setup.py) ... \u001b[?25ldone\n",
      "\u001b[?25hRequirement already satisfied: beautifulsoup4 in /Users/rakkshetsinghaal/anaconda3/lib/python3.11/site-packages (from wikipedia) (4.12.2)\n",
      "Requirement already satisfied: requests<3.0.0,>=2.0.0 in /Users/rakkshetsinghaal/anaconda3/lib/python3.11/site-packages (from wikipedia) (2.31.0)\n",
      "Requirement already satisfied: charset-normalizer<4,>=2 in /Users/rakkshetsinghaal/anaconda3/lib/python3.11/site-packages (from requests<3.0.0,>=2.0.0->wikipedia) (2.0.4)\n",
      "Requirement already satisfied: idna<4,>=2.5 in /Users/rakkshetsinghaal/anaconda3/lib/python3.11/site-packages (from requests<3.0.0,>=2.0.0->wikipedia) (3.4)\n",
      "Requirement already satisfied: urllib3<3,>=1.21.1 in /Users/rakkshetsinghaal/anaconda3/lib/python3.11/site-packages (from requests<3.0.0,>=2.0.0->wikipedia) (1.26.16)\n",
      "Requirement already satisfied: certifi>=2017.4.17 in /Users/rakkshetsinghaal/anaconda3/lib/python3.11/site-packages (from requests<3.0.0,>=2.0.0->wikipedia) (2023.7.22)\n",
      "Requirement already satisfied: soupsieve>1.2 in /Users/rakkshetsinghaal/anaconda3/lib/python3.11/site-packages (from beautifulsoup4->wikipedia) (2.4)\n",
      "Building wheels for collected packages: wikipedia\n",
      "  Building wheel for wikipedia (setup.py) ... \u001b[?25ldone\n",
      "\u001b[?25h  Created wheel for wikipedia: filename=wikipedia-1.4.0-py3-none-any.whl size=11680 sha256=56606360b07a1cd53474fe0e0ae2da912210159344a4547faf5ee0f2be00014c\n",
      "  Stored in directory: /Users/rakkshetsinghaal/Library/Caches/pip/wheels/8f/ab/cb/45ccc40522d3a1c41e1d2ad53b8f33a62f394011ec38cd71c6\n",
      "Successfully built wikipedia\n",
      "Installing collected packages: wikipedia\n",
      "Successfully installed wikipedia-1.4.0\n",
      "Note: you may need to restart the kernel to use updated packages.\n"
     ]
    }
   ],
   "source": [
    "pip install wikipedia"
   ]
  },
  {
   "cell_type": "code",
   "execution_count": 48,
   "metadata": {},
   "outputs": [
    {
     "name": "stdout",
     "output_type": "stream",
     "text": [
      "Gilbert du Motier, marquis de La Fayette, né le 6 septembre 1757 au château de Chavaniac près de Saint-Georges-d'Aurac (Auvergne, actuel département de la Haute-Loire), et mort le 20 mai 1834 à Paris (ancien 1er arrondissement), est un officier et homme politique français, célèbre en raison de son engagement dans les rangs de l'armée des insurgés américains (1777-1783), puis dans l'aile libérale et réformiste de l'aristocratie française (1784-1792), enfin dans l'opposition libérale au régime de la monarchie de Juillet qu'il avait pourtant contribué à établir lors des Trois Glorieuses (juillet 1830).\n",
      "Convaincu de la noblesse de la cause des insurgés américains, il s'engage à leurs côtés en 1777. Nommé général à l'âge de 19 ans par George Washington, La Fayette joue un rôle décisif dans la guerre d'indépendance des États-Unis contre la Grande-Bretagne, notamment lors de la victoire de Yorktown le 19 octobre 1781. Surnommé le « héros des deux mondes », il est depuis 2002 un des huit citoyens d'honneur des États-Unis. Il y fait d'ailleurs à l'invitation du président James Monroe un voyage triomphal en 1824, au cours duquel il est accueilli et honoré dans 182 villes des 24 États que compte l'Union à cette époque.\n",
      "Après avoir combattu aux États-Unis, La Fayette œuvre en France à la rénovation du pouvoir royal, avant de devenir une des grandes personnalités de la Révolution française, avec la rédaction de la déclaration des droits de l'homme et du citoyen et le commandement de la Garde nationale, jusqu'à son émigration en 1792 après avoir déserté son poste en espérant rallier l’armée prussienne. Il est néanmoins arrêté et incarcéré pendant cinq ans par les autorités autrichiennes et prussiennes.\n",
      "La Fayette est aussi un acteur politique majeur de la révolution de Juillet en 1830 et des débuts de la monarchie de Juillet, rompant cependant rapidement avec le roi Louis-Philippe dont il avait soutenu l'accession au trône. Durant cette dernière période de sa vie, il s'affirme aussi comme un soutien majeur à la Pologne après l'insurrection de 1830-1831.\n",
      "À partir de 1789, La Fayette signe ses courriers « Lafayette » en un seul mot, en réaction contre le système nobiliaire abattu par la révolution. C'est cette graphie qui est utilisée par ses contemporains jusqu'à sa mort.\n"
     ]
    }
   ],
   "source": [
    "import wikipedia \n",
    "\n",
    "wikipedia.set_lang(\"fr\")\n",
    "\n",
    "print(wikipedia.summary(\"Gilbert du Motier de La Fayette\"))"
   ]
  },
  {
   "cell_type": "markdown",
   "metadata": {},
   "source": [
    "47. (4pts) Write a function that takes two arguments, name and hometown  and prints a statement that says, \"Well hello 'name', you must be from 'hometown' as an f string when called."
   ]
  },
  {
   "cell_type": "code",
   "execution_count": 49,
   "metadata": {},
   "outputs": [],
   "source": [
    "def name_home ():\n",
    "    name = input(\"Please enter your name: \")\n",
    "    hometown = input(\"Please enter your hometown: \")\n",
    "    \n",
    "    print(f\"Hello {name}, you must be {hometown}?\")"
   ]
  },
  {
   "cell_type": "markdown",
   "metadata": {},
   "source": [
    "48. Write a script that takes an age as a user input and prints the following, based on conditions, using if, elif, and else:\n",
    "\n",
    "If the age is 1-18: print \"This individual is a minor. Their brain is still growing.\"\n",
    "If the age is 19-25: print. \"Though the brain may be done growing in size, it does not finish developing and maturing until the mid- to late 20s\"\n",
    "If the age is 26-40: \"Accomplish what you can before your brain rots!\"\n",
    "If the age is 41-100: \"Don't despair! For the first time, researchers have been able to identify superagers MRI images of the brains of superagers with an average age of 67 are remarkably similar to the brain of 25-year-olds.\""
   ]
  },
  {
   "cell_type": "code",
   "execution_count": 50,
   "metadata": {},
   "outputs": [
    {
     "name": "stdout",
     "output_type": "stream",
     "text": [
      "Please enter your age: 93\n",
      "Don't despair! For the first time, researchers have been able to identify superagers MRI images of the brains of superagers with an average age of 67 are remarkably similar to the brain of 25-year-olds.\n"
     ]
    }
   ],
   "source": [
    "age = int(input(\"Please enter your age: \"))\n",
    "\n",
    "if age<=18:\n",
    "    print(\"This individual is a minor. Their brain is still growing.\")\n",
    "elif age>18 and age<=25:\n",
    "    print(\"Though the brain may be done growing in size, it does not finish developing and maturing until the mid- to late 20s\")\n",
    "elif age>25 and age<=40:\n",
    "    print(\"Accomplish what you can before your brain rots!\")\n",
    "elif age>40 and age<=100:\n",
    "    print(\"Don't despair! For the first time, researchers have been able to identify superagers MRI images of the brains of superagers with an average age of 67 are remarkably similar to the brain of 25-year-olds.\")"
   ]
  },
  {
   "cell_type": "markdown",
   "metadata": {},
   "source": [
    "49.Write a while loop that counts down from 20 to \"blastoff\":\n",
    "\n",
    "hint: decrement each time using n = n -1 or using -=\n",
    "n = 20"
   ]
  },
  {
   "cell_type": "code",
   "execution_count": 51,
   "metadata": {},
   "outputs": [
    {
     "name": "stdout",
     "output_type": "stream",
     "text": [
      "20\n",
      "19\n",
      "18\n",
      "17\n",
      "16\n",
      "15\n",
      "14\n",
      "13\n",
      "12\n",
      "11\n",
      "10\n",
      "9\n",
      "8\n",
      "7\n",
      "6\n",
      "5\n",
      "4\n",
      "3\n",
      "2\n",
      "1\n",
      "Blastoff!\n"
     ]
    }
   ],
   "source": [
    "n = 20\n",
    "\n",
    "while n > 0:\n",
    "    print(n)\n",
    "    n -= 1\n",
    "\n",
    "print(\"Blastoff!\")"
   ]
  },
  {
   "cell_type": "markdown",
   "metadata": {},
   "source": [
    "50.#Write code, usting the strip method, to remove the unecessary characters, and add a space to print Jackson Python\n",
    "\n",
    "jackson_string = \"grrrrr....ughhhh..JacksonPython@@@!!!!\"\n"
   ]
  },
  {
   "cell_type": "code",
   "execution_count": 52,
   "metadata": {},
   "outputs": [
    {
     "name": "stdout",
     "output_type": "stream",
     "text": [
      "Jackson Python\n"
     ]
    }
   ],
   "source": [
    "jackson_string = \"grrrrr....ughhhh..JacksonPython@@@!!!!\"\n",
    "\n",
    "cleaned_string = jackson_string.strip('.!@ghur').replace(\"Jackson\", \"Jackson \")\n",
    "\n",
    "print(cleaned_string)"
   ]
  }
 ],
 "metadata": {
  "kernelspec": {
   "display_name": "Python 3 (ipykernel)",
   "language": "python",
   "name": "python3"
  },
  "language_info": {
   "codemirror_mode": {
    "name": "ipython",
    "version": 3
   },
   "file_extension": ".py",
   "mimetype": "text/x-python",
   "name": "python",
   "nbconvert_exporter": "python",
   "pygments_lexer": "ipython3",
   "version": "3.11.4"
  }
 },
 "nbformat": 4,
 "nbformat_minor": 4
}
