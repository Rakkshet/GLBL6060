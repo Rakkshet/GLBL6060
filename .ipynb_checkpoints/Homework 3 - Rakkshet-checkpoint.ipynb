{
 "cells": [
  {
   "cell_type": "markdown",
   "id": "c6e0a777-60c6-424c-8e5f-461f3072854b",
   "metadata": {},
   "source": [
    "1. Translating Sentences:\n",
    "\n",
    "Write a function that translates sentences. The function takes two arguements, the sentence to be translated and the targeted language and returns the translated sentence.\n"
   ]
  },
  {
   "cell_type": "code",
   "execution_count": 1,
   "id": "760e2bad-7861-4594-8557-786d41b56b97",
   "metadata": {},
   "outputs": [],
   "source": [
    "from googletrans import Translator\n",
    "\n",
    "def translate_sentence(sentence, target_language):\n",
    "    '''Translating sentence'''\n",
    "    \n",
    "    translator = Translator()\n",
    "\n",
    "    translation = translator.translate(sentence, dest=target_language)\n",
    "\n",
    "    return translation.text"
   ]
  },
  {
   "cell_type": "markdown",
   "id": "2969a456-a840-48ce-b0f4-9252a2bddd24",
   "metadata": {},
   "source": [
    "2. Take the following sentence and translate it from English to Spanish.\n",
    "\n",
    "\"Make a career of humanity. Commit yourself to the noble struggle for equal rights. You will make a better person of yourself, a greater nation of your country, and a finer world to live in.\"\n",
    "\n"
   ]
  },
  {
   "cell_type": "code",
   "execution_count": 2,
   "id": "8f1eb4c0",
   "metadata": {},
   "outputs": [
    {
     "name": "stdout",
     "output_type": "stream",
     "text": [
      "Haz una carrera de humanidad. Comprométete con la noble lucha por la igualdad de derechos. Harás de ti mismo una mejor persona, una nación más grande para tu país y un mundo mejor para vivir.\n"
     ]
    }
   ],
   "source": [
    "original_sentence = 'Make a career of humanity. Commit yourself to the noble struggle for equal rights. You will make a better person of yourself, a greater nation of your country, and a finer world to live in.'\n",
    "sentence_spanish = translate_sentence(original_sentence, 'es')\n",
    "print(sentence_spanish)"
   ]
  },
  {
   "cell_type": "markdown",
   "id": "ac762dec",
   "metadata": {},
   "source": [
    "3.Now translate it from Spanish to Chinese"
   ]
  },
  {
   "cell_type": "code",
   "execution_count": 3,
   "id": "046ca215-83f0-4680-874d-20214d76992b",
   "metadata": {},
   "outputs": [
    {
     "name": "stdout",
     "output_type": "stream",
     "text": [
      "成就人类事业。致力于争取平等权利的崇高斗争。你将使自己成为一个更好的人、一个更伟大的国家、一个更美好的世界。\n"
     ]
    }
   ],
   "source": [
    "translated_sentence_chinese = translate_sentence(sentence_spanish, 'zh-CN')\n",
    "\n",
    "print(translated_sentence_chinese)"
   ]
  },
  {
   "cell_type": "markdown",
   "id": "038521d6",
   "metadata": {},
   "source": [
    "4. Now translate it from Chinese back to English."
   ]
  },
  {
   "cell_type": "code",
   "execution_count": 4,
   "id": "f4615e33-518f-4047-bd24-03967d96312f",
   "metadata": {},
   "outputs": [
    {
     "name": "stdout",
     "output_type": "stream",
     "text": [
      "Make a career of humanity. Commit to the noble fight for equal rights. You will make yourself a better person, a greater nation for your country, and a better world to live in.\n"
     ]
    }
   ],
   "source": [
    "translated_sentence_english = translate_sentence(sentence_spanish, 'en')\n",
    "\n",
    "print(translated_sentence_english)"
   ]
  },
  {
   "cell_type": "markdown",
   "id": "ec0705c5-56d1-4eef-8268-280127022260",
   "metadata": {},
   "source": [
    "5. Now do the same thing with ChatGPT. "
   ]
  },
  {
   "cell_type": "markdown",
   "id": "e2c32e5b-469b-4604-a671-261893270021",
   "metadata": {},
   "source": [
    "Eng to Sp: Haz una carrera de la humanidad. Comprométete con la noble lucha por la igualdad de derechos. Te convertirás en una mejor persona, harás de tu país una nación más grande y contribuirás a crear un mundo más hermoso para vivir.\n",
    "\n",
    "\n",
    "Sp to Chinese: 做一场人类的竞赛。投身于高尚的平等权利斗争。你将变得更加优秀，使你的国家变得更伟大，并为创造一个更美好的生活世界做出贡献。\n",
    "\n",
    "\n",
    "Chinese to Eng: Engage in a human competition. Dedicate yourself to the noble struggle for equal rights. You will become more outstanding, make your country greater, and contribute to creating a better world for living."
   ]
  },
  {
   "cell_type": "markdown",
   "id": "82b352d3",
   "metadata": {},
   "source": [
    "6. Describe the difference in quality and features of output:"
   ]
  },
  {
   "cell_type": "markdown",
   "id": "6530c239",
   "metadata": {},
   "source": [
    "There is a stark difference between the two translations. When we use the above function, it gives us the same result with which we started. However, ChatGPT (3.5) gave us something completely different, although the meaning of the original and final sentences resembles each other."
   ]
  },
  {
   "cell_type": "markdown",
   "id": "35ef9916-beef-4318-831e-ea8328da4ed6",
   "metadata": {},
   "source": [
    "7.Human Development Index(HDI) Function\n",
    "\n",
    "Human Development Index (HDI) is a composite statistic of life expectancy, education, and income per capita indicators, which are used to rank countries into four apsects of human development: \n",
    "\n",
    "1. Life expectancy at birth.\n",
    "2. Average number of years of education received by people aged 25 and older.\n",
    "3. Expected years of schooling for children entering school.\n",
    "4. Gross National Income per capita.\n",
    "\n",
    "But....these measures need to be normalize.\n",
    "\n",
    "\n",
    "### Normalizing the four factors—life expectancy, mean years of schooling, expected years of schooling, and GNI per capita—is crucial for calculating the Human Development Index (HDI) correctly for several reasons:\n",
    "\n",
    "1. *Different Units and Scales*\n",
    "The four factors are measured in entirely different units and scales. Life expectancy is measured in years, schooling years are also in years, but they represent different aspects of education, and GNI per capita is measured in dollars. Normalization transforms these variables into a comparable scale (usually between 0 and 1), allowing for a meaningful aggregation into a single index.\n",
    "2. *Combining Indices*\n",
    "The HDI is a composite index that combines indicators of health, education, and income. To accurately reflect improvements or declines across these varied dimensions, each factor must contribute proportionately to the final index. Without normalization, a high value in one dimension could disproportionately affect the HDI, obscuring significant deficiencies in another dimension.\n",
    "3. *Geometric Mean Calculation*\n",
    "The HDI uses the geometric mean of the normalized indices rather than an arithmetic mean. This choice ensures that severe underperformance in any single dimension (approaching zero) will have a more substantial impact on the overall HDI, promoting a more balanced approach to development. The geometric mean can only be meaningfully calculated if all values are on the same positive scale.\n",
    "4. *Comparability Over Time and Across Countries*\n",
    "Normalization allows for the comparison of HDI scores over time and between countries. By using fixed hypothetical minimum and maximum values for normalization, the HDI can track progress or decline in human development even as absolute conditions change. It ensures that the index remains relevant and comparable despite changes in global standards of living, educational attainment, or life expectancy.\n",
    "5. *Reducing Skewness and Enhancing Sensitivity*\n",
    "For GNI per capita, specifically, the logarithmic transformation helps manage the skewness caused by the wide range of income levels across the world. This transformation ensures that proportional differences at lower levels of income are given comparable weight to similar proportional differences at higher levels of income, enhancing the sensitivity of the HDI to improvements in living standards across all income levels.\n",
    "\n",
    "So...normalization is a **methodological necessity** in constructing the HDI. It allows for the equitable integration of diverse human development indicators into a unified framework, enabling policymakers, researchers, and the public to assess and compare the overall level of human development across different contexts and over time.\n",
    "\n",
    "\n",
    "Here are your helpful guidelines for constructing the logic of this function:\n"
   ]
  },
  {
   "cell_type": "code",
   "execution_count": 5,
   "id": "559072c7",
   "metadata": {},
   "outputs": [
    {
     "data": {
      "text/plain": [
       "'\\n# How to normalize each index\\nlife_expectancy_index = (life_expectancy - 20) / (85 - 20)\\neducation_index = (mean_years_of_schooling / 15 + expected_years_of_schooling / 18) / 2\\nGNI_index = (np.log(GNI_per_capita) - np.log(100)) / (np.log(75000) - np.log(100))\\n\\n # Calculate HDI\\nHDI = (life_expectancy_index * education_index * GNI_index) ** (1/3)\\n'"
      ]
     },
     "execution_count": 5,
     "metadata": {},
     "output_type": "execute_result"
    }
   ],
   "source": [
    "'''\n",
    "# How to normalize each index\n",
    "life_expectancy_index = (life_expectancy - 20) / (85 - 20)\n",
    "education_index = (mean_years_of_schooling / 15 + expected_years_of_schooling / 18) / 2\n",
    "GNI_index = (np.log(GNI_per_capita) - np.log(100)) / (np.log(75000) - np.log(100))\n",
    "\n",
    " # Calculate HDI\n",
    "HDI = (life_expectancy_index * education_index * GNI_index) ** (1/3)\n",
    "'''"
   ]
  },
  {
   "cell_type": "markdown",
   "id": "df9c6140",
   "metadata": {},
   "source": [
    "Now write the HDI function. Explain each of these normalizations with documation that illustrates your understanding of the code."
   ]
  },
  {
   "cell_type": "code",
   "execution_count": 6,
   "id": "2ab63be4-3a46-4b3a-8c27-7ad7299d5977",
   "metadata": {},
   "outputs": [],
   "source": [
    "import numpy as np\n",
    "\n",
    "def HDI_function(life_expectancy, mean_years_of_schooling, expected_years_of_schooling, GNI_per_capita):\n",
    "    \"\"\"\n",
    "    Calculate the Human Development Index (HDI) based on life expectancy, education, and GNI per capita.\n",
    "\n",
    "    Parameters:\n",
    "    - life_expectancy (float): Average number of years a person can expect to live.\n",
    "    - mean_years_of_schooling (float): Average number of years of education received by people aged 25 years and older.\n",
    "    - expected_years_of_schooling (float): Number of years of education a child entering school can expect to receive, assuming age-specific enrollment ratios remain the same throughout life.\n",
    "    - GNI_per_capita (float): Gross National Income (GNI) per capita.\n",
    "\n",
    "    Returns:\n",
    "    - HDI (float): Human Development Index, a composite index measuring a country's average achievements in three basic dimensions of human development.\n",
    "\n",
    "    \"\"\"\n",
    "    # Normalize life expectancy\n",
    "    life_expectancy_index = (life_expectancy - 20) / (85 - 20)\n",
    "\n",
    "    # Normalize education\n",
    "    # Combine mean years of schooling and expected years of schooling, then normalize the result\n",
    "    education_index = (mean_years_of_schooling / 15 + expected_years_of_schooling / 18) / 2\n",
    "\n",
    "    # Normalize GNI per capita using logarithmic scale\n",
    "    GNI_index = (np.log(GNI_per_capita) - np.log(100)) / (np.log(75000) - np.log(100))\n",
    "    \n",
    "    # Calculate the HDI as the geometric mean of the three normalized indices\n",
    "    HDI = (life_expectancy_index * education_index * GNI_index) ** (1/3)\n",
    "    \n",
    "    return HDI"
   ]
  },
  {
   "cell_type": "code",
   "execution_count": 7,
   "id": "e97bea82",
   "metadata": {},
   "outputs": [
    {
     "name": "stdout",
     "output_type": "stream",
     "text": [
      "0.7275599371306494\n"
     ]
    }
   ],
   "source": [
    "result = HDI_function(60, 10, 12, 50000)\n",
    "print(result)"
   ]
  },
  {
   "cell_type": "markdown",
   "id": "7cd88131-e817-4a50-aede-ec94b31cabfc",
   "metadata": {},
   "source": [
    "8. Leet Code Puzzle:\n",
    "\n",
    "Roman numerals are represented by seven different symbols: I, V, X, L, C, D and M.\n",
    "\n",
    "Symbol       Value\n",
    "I             1\n",
    "V             5\n",
    "X             10\n",
    "L             50\n",
    "C             100\n",
    "D             500\n",
    "M             1000\n",
    "\n",
    "For example, 2 is written as II in Roman numeral, just two ones added together. 12 is written as XII, which is simply X + II. The number 27 is written as XXVII, which is XX + V + II.\n",
    "\n",
    "Roman numerals are usually written largest to smallest from left to right. However, the numeral for four is not IIII. Instead, the number four is written as IV. Because the one is before the five we subtract it making four. The same principle applies to the number nine, which is written as IX. There are six instances where subtraction is used:\n",
    "\n",
    "I can be placed before V (5) and X (10) to make 4 and 9. \n",
    "X can be placed before L (50) and C (100) to make 40 and 90. \n",
    "C can be placed before D (500) and M (1000) to make 400 and 900.\n",
    "Given a roman numeral, convert it to an integer.\n",
    "\n",
    "Example 1:\n",
    "\n",
    "Input: s = \"III\"\n",
    "Output: 3\n",
    "Explanation: III = 3.\n",
    "Example 2:\n",
    "\n",
    "Input: s = \"LVIII\"\n",
    "Output: 58\n",
    "Explanation: L = 50, V= 5, III = 3.\n",
    "Example 3:\n",
    "\n",
    "Input: s = \"MCMXCIV\"\n",
    "Output: 1994\n",
    "Explanation: M = 1000, CM = 900, XC = 90 and IV = 4.\n",
    " \n",
    "\n",
    "Constraints:\n",
    "\n",
    "1 <= s.length <= 15\n",
    "s contains only the characters ('I', 'V', 'X', 'L', 'C', 'D', 'M').\n",
    "It is guaranteed that s is a valid roman numeral in the range [1,3999]\n",
    "\n"
   ]
  },
  {
   "cell_type": "markdown",
   "id": "dad1d966-55aa-4387-b133-b3f0fe9918c3",
   "metadata": {},
   "source": [
    "Complete the following function that converts a Roman numeral to an integer. **Check out the helpful type hinting format!** "
   ]
  },
  {
   "cell_type": "code",
   "execution_count": 8,
   "id": "0c69ff52",
   "metadata": {},
   "outputs": [],
   "source": [
    "def roman_to_integer(s: str) -> int:\n",
    "    \"\"\"\n",
    "    Convert a Roman numeral to an integer.\n",
    "\n",
    "    Parameters:\n",
    "    - s (str): A string representing a Roman numeral.\n",
    "\n",
    "    Returns:\n",
    "    - int: The equivalent integer value of the Roman numeral.\n",
    "\n",
    "    \"\"\"\n",
    "    roman_numerals = {\n",
    "        'I': 1,\n",
    "        'V': 5,\n",
    "        'X': 10,\n",
    "        'L': 50,\n",
    "        'C': 100,\n",
    "        'D': 500,\n",
    "        'M': 1000\n",
    "    }\n",
    "    total = 0\n",
    "    prev_value = 0\n",
    "    for char in reversed(s):\n",
    "        value = roman_numerals[char]\n",
    "        if value < prev_value:\n",
    "            total -= value\n",
    "        else:\n",
    "            total += value\n",
    "        prev_value = value\n",
    "    return total"
   ]
  },
  {
   "cell_type": "code",
   "execution_count": 9,
   "id": "d6aa7817",
   "metadata": {},
   "outputs": [
    {
     "name": "stdout",
     "output_type": "stream",
     "text": [
      "1994\n"
     ]
    }
   ],
   "source": [
    "result = roman_to_integer(\"MCMXCIV\")\n",
    "print(result)"
   ]
  },
  {
   "cell_type": "markdown",
   "id": "87fcd085-b4b5-4d81-9caf-174a270c390f",
   "metadata": {},
   "source": [
    " ## Recursion\n",
    "\n",
    "Recursion is a programming technique where a function calls itself in order to solve a problem. \n",
    "In recursive functions, the solution to a problem depends on solutions to smaller instances of the same problem. \n",
    "A key feature of a recursive function is the presence of a base case, which terminates the recursion and prevents it from running indefinitely.\n",
    "\n",
    "Let's create a recursive function that multiplies two numbers using addition. This is a simple yet illustrative example of recursion. The function will multiply two positive integers, a and b, by adding a to itself b times."
   ]
  },
  {
   "cell_type": "code",
   "execution_count": 10,
   "id": "6a4fe908-fddc-4e69-ae8c-fa118cec34a1",
   "metadata": {},
   "outputs": [
    {
     "name": "stdout",
     "output_type": "stream",
     "text": [
      "15\n"
     ]
    }
   ],
   "source": [
    "def recursive_multiply(a, b):\n",
    "    \"\"\"\n",
    "    Recursively multiplies two numbers by using addition.\n",
    "\n",
    "    Parameters:\n",
    "    a (int): The first number.\n",
    "    b (int): The second number, representing the number of times 'a' is added to itself.\n",
    "\n",
    "    Returns:\n",
    "    int: The product of 'a' and 'b'.\n",
    "    \"\"\"\n",
    "    # Base case: when b is 0, the result is 0\n",
    "    if b == 0:\n",
    "        return 0\n",
    "\n",
    "    # Recursive case: add 'a' to the result of multiplying 'a' with 'b-1'\n",
    "    else:\n",
    "        return a + recursive_multiply(a, b - 1)\n",
    "\n",
    "# Example usage\n",
    "print(recursive_multiply(5, 3))  # Output: 15"
   ]
  },
  {
   "cell_type": "markdown",
   "id": "a3c12934-e729-4578-a8c3-33feaccf725a",
   "metadata": {},
   "source": [
    "Explanation: Base Case: When b is 0, the function returns 0. This is because any number multiplied by 0 equals 0.\n",
    "\n",
    "Recursive Case: If b is greater than 0, the function performs the operation a + recursive_multiply(a, b - 1). This adds a to the result of the function called with b decremented by 1, effectively summing a b times.\n",
    "\n",
    "Termination: The recursion continues until b reaches 0, at which point the base case stops the recursion and the final result is returned.\n",
    "\n",
    "In this example, recursive_multiply(5, 3) is calculated as:\n",
    "\n",
    "5 + recursive_multiply(5, 2) 5 + (5 + recursive_multiply(5, 1)) 5 + (5 + (5 + recursive_multiply(5, 0))) 5 + (5 + (5 + 0)) 15 This example demonstrates a basic recursion concept using a common arithmetic operation."
   ]
  },
  {
   "cell_type": "markdown",
   "id": "15981086-348c-4165-8934-b96658e0d9c3",
   "metadata": {},
   "source": [
    "## One for Jacob\n",
    "Let's use an example related to Russian studies. Imagine we want to analyze the lineage of Russian leadership, tracing back through a series of predecessors. The recursive function could help us find how many steps it takes to reach a specific historical figure in the leadership lineage."
   ]
  },
  {
   "cell_type": "code",
   "execution_count": 11,
   "id": "5c6a1381-c817-443c-abbb-53d842744bfd",
   "metadata": {},
   "outputs": [
    {
     "name": "stdout",
     "output_type": "stream",
     "text": [
      "2\n"
     ]
    }
   ],
   "source": [
    "def trace_lineage(current_leader, target_leader, steps=0):\n",
    "    \"\"\"\n",
    "    Recursively traces the lineage of Russian leadership back to a target leader.\n",
    "\n",
    "    Parameters:\n",
    "    current_leader (str): The current leader in the lineage being traced.\n",
    "    target_leader (str): The target leader to trace back to.\n",
    "    steps (int): The number of steps taken in the lineage trace.\n",
    "\n",
    "    Returns:\n",
    "    int: The number of steps to reach the target leader.\n",
    "    \"\"\"\n",
    "    # Base case: If the current leader is the target leader\n",
    "    if current_leader == target_leader:\n",
    "        return steps\n",
    "\n",
    "    # A simple example lineage mapping\n",
    "    lineage = {\n",
    "        \"Vladimir Putin\": \"Boris Yeltsin\",\n",
    "        \"Boris Yeltsin\": \"Mikhail Gorbachev\",\n",
    "        \"Mikhail Gorbachev\": \"Konstantin Chernenko\",\n",
    "        # ... additional lineage mapping ...\n",
    "    }\n",
    "\n",
    "    # Recursive case: Move to the next leader in the lineage\n",
    "    if current_leader in lineage:\n",
    "        return trace_lineage(lineage[current_leader], target_leader, steps + 1)\n",
    "    else:\n",
    "        return \"Lineage not found\"\n",
    "\n",
    "# Example usage: How many steps from Vladimir Putin to Mikhail Gorbachev?\n",
    "steps_to_gorbachev = trace_lineage(\"Vladimir Putin\", \"Mikhail Gorbachev\")\n",
    "print(steps_to_gorbachev)  # Output: 2"
   ]
  },
  {
   "cell_type": "markdown",
   "id": "a8c5f100-36c0-4d18-90d0-1aa620356458",
   "metadata": {},
   "source": [
    "In this example, trace_lineage is a recursive function. The base case occurs when the current leader is the target leader, at which point the function returns the number of steps taken. If the current leader is not the target, the function calls itself with the predecessor of the current leader (retrieved from the lineage dictionary). This process repeats until the target leader is reached or the lineage cannot be traced further.\n",
    "\n",
    "Recursion is a powerful concept, especially useful in scenarios where a problem can be broken down into smaller, similar subproblems. However, it's important to define the base case correctly to avoid infinite recursion."
   ]
  },
  {
   "cell_type": "markdown",
   "id": "e5b649c3-4338-4d16-9855-4d8853a4b436",
   "metadata": {},
   "source": [
    "9. ## The Matryoshka Dolls##\n",
    "\n",
    "In Russian culture, Matryoshka dolls, or Russian nesting dolls, are a set of wooden dolls of decreasing size placed one inside another. \n",
    "\n",
    "**Your task is to write a recursive function in Python that calculates the total number of individual dolls in a set of Matryoshka dolls, given the number of layers.**\n",
    "\n",
    "Problem Description:\n",
    "\n",
    "A single Matryoshka doll consists of multiple layers, each layer being a doll itself.\n",
    "Each doll can contain exactly one smaller doll inside it, except for the smallest doll, which cannot contain any doll.\n",
    "The function should take the number of layers (i.e., the size of the largest doll) as an input and return the total number of dolls.\n",
    "\n",
    "Example:\n",
    "\n",
    "If the largest doll has 5 layers, then the total number of dolls will be 5 (one for each layer)."
   ]
  },
  {
   "cell_type": "code",
   "execution_count": 12,
   "id": "c39c100b-dec6-408c-ae21-99119d6b3033",
   "metadata": {},
   "outputs": [],
   "source": [
    "def matryoshka_doll(layer):\n",
    "    \"\"\"\n",
    "    Calculate the total number of individual dolls in a set of Matryoshka dolls.\n",
    "\n",
    "    Parameters:\n",
    "    - layer (int): The number of layers in the largest Matryoshka doll.\n",
    "\n",
    "    Returns:\n",
    "    - int: The total number of individual dolls.\n",
    "\n",
    "    \"\"\"\n",
    "    if layer == 0:\n",
    "        return 0\n",
    "    else:\n",
    "        return 1 + matryoshka_doll(layer - 1)"
   ]
  },
  {
   "cell_type": "code",
   "execution_count": 13,
   "id": "ef9f81f4",
   "metadata": {},
   "outputs": [
    {
     "name": "stdout",
     "output_type": "stream",
     "text": [
      "How many layers does the Matryoshka doll consist of? 15\n",
      "The total number of individual dolls is: 15\n"
     ]
    }
   ],
   "source": [
    "# Example usage:\n",
    "layers = int(input(\"How many layers does the Matryoshka doll consist of? \"))\n",
    "print(f\"The total number of individual dolls is: {matryoshka_doll(layers)}\")"
   ]
  },
  {
   "cell_type": "markdown",
   "id": "1adb516b-b2d3-4d9d-b736-8967cbdb3370",
   "metadata": {},
   "source": [
    "10. ## Mired in Mango Madness ##\n",
    "\n",
    "\n",
    "Congratulations! In your last semester at Yale, you got a job at the World Bank ! \n",
    "\n",
    "Your first assignment is to address the dearth of good data in Mali on Mango quality and production. Your boss put you on a plane to Mali during the harvest season. You are excited, not only because your boss is annoying and wears too much cologne, but international travel is part of the excitement of an international job. You are excited to see the Great Mosque of Djenne, to watch the sunset from the Bandiagara Cliffs, and to dance the night away to  at Le Byblos. Oh yeah, there is the work too. After a particular \"rough\" night you meet with your colleagues at the office.  You thought you'd be able to just get by making eye contact and nodding while they did most of the work. After all, you are new to the role. No such luck. Your colleagues are thrilled that you can solve their problems by creating an automated call center. Their exact words are, \"The Harvard grad ended up quitting, I'm glad we have someone from Yale here to make things right.\"\n",
    "\n",
    "You are given an office and a computer. You may have slightly overstated your Python coding skills to get the job, but too late now. They ask if you mind if they watch you code. You tell them that you prefer to work alone, although ask them to lunch later to soften the push back. After the initial panic and hangover subsides you think back to your days in intermediate python at Yale, the encouraging words of your caring but demanding prof,  and then a light flashes in your mind and you think, \"I got this.\" \n",
    "\n",
    "You've been tasked with the goal of setting up an automated call center to get data on current market prices, production and quality. There are growers who are both collectives who report these factors, and also smaller growers! Unfortunately, some of these are incentivized to underreport production and prices under the assumption that they will receive more foreign aid. Not all of them though! It's estimated that 10-20% of the self-reporting is innacurate. Callers call the center. Words are processed from speech to text. Text is processed, converted back to speech and then communicated to the caller. \n",
    "\n",
    "There are a few challenges you face: \n",
    "1. The speech to text algo was trained on French, but most of the farmers who call in speak Bambara. You must translate from Bambara to French, and then French to English, because your boss doesn't speak French and wants things in English and is completely unreasonable.\n",
    "2. Sometimes the call just ends, sometimes words are sporadic, sometimes the algo. confuses the word \"child\" and the word \"mango\"\n",
    "3. The call in number was once the number for the infant health hotline. People still use the number to try to get immediate emergency care for their infant. Their calls must be redirected or children could die and it would be your fault, not to mention an international incident.\n",
    "4. The call number is often called by fans and musicians who are given the number by directory assistance because there is a music production company called Mango Mali, a fledgling world music group that markets music from Mali to France.\n",
    "5. You must try to identify who is lying about their crop yield quality and prices.\n",
    "\n",
    "\n",
    "\n",
    "**YOUR MISSION**\n",
    "\n",
    "Write code that accepts the number as an input and then collects user input(in Bambara), translates it to French, and then outputs the data to a csv file in English. Please make sure you write code that addresses the challenges above (1-5). \n",
    "Create use cases to demonstrate that your code works and that you have addressed the basic use case, and that you have addressed challenges 1-5."
   ]
  },
  {
   "cell_type": "code",
   "execution_count": 14,
   "id": "1916134d",
   "metadata": {},
   "outputs": [
    {
     "data": {
      "text/plain": [
       "\" We don't use this within the program. But we used it to develop the text\""
      ]
     },
     "execution_count": 14,
     "metadata": {},
     "output_type": "execute_result"
    }
   ],
   "source": [
    "from mtranslate import translate\n",
    "\n",
    "def bambara_to_french(bambara_text):\n",
    "    '''Translating sentence from Banbara to French'''\n",
    "    translation_b2f = translate(bambara_text, 'fr', 'bm')\n",
    "    return translation_b2f\n",
    "\n",
    "def french_to_english(french_text):\n",
    "    '''Translating sentence from French to English''' \n",
    "    translation_f2e = translate(french_text, 'en', 'fr')\n",
    "    return translation_f2e\n",
    "\n",
    "def bambara_to_english(bambara_text):\n",
    "    '''Translating sentence from Banbara to English''' \n",
    "    french_translation = bambara_to_french(bambara_text)\n",
    "    english_translation = french_to_english(french_translation)\n",
    "    return english_translation\n",
    "\n",
    "def english_to_french(english_text):\n",
    "    '''Translating sentence from English to French'''\n",
    "    translation_e2f = translate(english_text, 'fr', 'en')\n",
    "    return translation_e2f\n",
    "\n",
    "def french_to_bambara(french_text):\n",
    "    '''Translating sentence from French to Bambara'''\n",
    "    translation_f2b = translate(french_text, 'bm', 'fr')\n",
    "    return translation_f2b\n",
    "\n",
    "def english_to_bambara(english_text):\n",
    "    '''Translating sentence from English to Bambara'''\n",
    "    french_translation = english_to_french(english_text)\n",
    "    bambara_translation = french_to_bambara(french_translation)\n",
    "    return bambara_translation\n",
    "\n",
    "''' We don't use this within the program. But we used it to develop the text'''"
   ]
  },
  {
   "cell_type": "code",
   "execution_count": 15,
   "id": "f7bab8c8-92e5-426f-9717-1a94f4d4f4d2",
   "metadata": {},
   "outputs": [],
   "source": [
    "import csv\n",
    "\n",
    "def mango_madness():\n",
    "    \"\"\"\n",
    "    Collects information about mango production from users and saves it to a CSV file.\n",
    "\n",
    "    The function runs in a loop, prompting users for information such as phone number,\n",
    "    farm details, and mango production details. The collected data is then saved to a\n",
    "    CSV file. The loop continues until valid information is provided.\n",
    "\n",
    "    Returns:\n",
    "    None\n",
    "    \"\"\"\n",
    "    while True:\n",
    "        phone_number = input(\"Telefɔni nimɔrɔ sɛbɛn (a cogoya: xxxxxxxxx): \")  # Enter the phone number (format: xxx-xxx-xxx)\n",
    "        print(phone_number)\n",
    "\n",
    "        if phone_number.isdigit() and len(phone_number) == 10:\n",
    "            user_input = int(input(f\"Aw ni ce aw ka kuma {phone_number} fɛ! Yala aw b’a fɛ ka kunnafoni di mangoro sɛnɛcogo kan wa? (I ka 1 digi Ɔwɔ kama walima 0 digi Ayi kan): \")) #Thanks for talking to {phone_number}! Want to share information about growing corn? (Click 1 for Yes or 0 for No):\n",
    "            print(user_input)\n",
    "\n",
    "            while True:\n",
    "                if user_input == 0:\n",
    "                    wrong_number = int(input(\"Yafa ɲini, nka nin telefɔni nimɔrɔ in dabɔra kɛrɛnkɛrɛnnenya la walasa ka kunnafoni dɔw di mangoro sɛnɛko kan. Yala aw y’a ɲini ka kuma Denmisɛnw ka Kɛnɛya Dɛmɛnsira fɛ walima Mango Mali Musique Company fɛ wa? (Aw ka 1 sugandi Denmisɛnw ka kɛnɛya telefɔni telefɔni na walima 2 sugandi Mango Mali Music Company kama.)\")) #Apologies, but this hotline is specifically designed to provide information on growing corn. Have you tried contacting the Children's Health Helpline or Mango Mali Music Company? (Please choose 1 for Child Health phone or 2 for Mango Mali Music Company.)\n",
    "                    print(wrong_number)\n",
    "                    \n",
    "                    while True:\n",
    "                        if wrong_number == 1:\n",
    "                            print(\"Ni aw b’a fɛ ka kuma Denmisɛnw ka kɛnɛya dɛmɛnan fɛ, aw bɛ se ka telefɔni 123-456-7890 wele.\") #To contact the Children's Health Helpline, call 123-456-7890.\n",
    "                            break\n",
    "                        elif wrong_number == 2:\n",
    "                            print(\"Ni aw b’a fɛ ka kuma Mango Mali Music Company fɛ, aw bɛ se ka telefɔni 987-654-3210 wele.\") #To contact Mango Mali Music Company, please call 987-654-3210.\n",
    "                            break\n",
    "                        else:\n",
    "                            print(\"Aw ye 0 walima 1 sɛbɛn.\") #Please enter either 0 or 1.\n",
    "                            continue\n",
    "                            \n",
    "                elif user_input == 1:\n",
    "                    name = input(\"Aw ye aw tɔgɔ sɛbɛn: \") #Enter your name:\n",
    "                    farm_size = int(input(\"Aw ka opereli hakɛ ye mun ye? (Sugu 1 ni hakɛ 0 ni 5 cɛ, 2 ni hakɛ 6 ni 10 cɛ, 3 ni a ka ca ni hakɛ 11 ye) \")) #What is the size of your operation? (Category 1 if levels between 0 and 5, 2 if levels between 6 and 10, 3 if level greater than 11)\n",
    "                    workers = int(input(\"Baarakɛla joli bɛ baara kɛ aw ka foro la? \")) #How many employees work in your field?\n",
    "                    production = int(input(\"Aw bɛ mangoro minnu bɛ bɔ, olu hakɛ bɛɛ lajɛlen tila ɲɔgɔn na (kg kɔnɔ)? \")) #What is the total number of mangoes produced (in kg)\n",
    "                    price = int(input(\"Aw ye mangoro feereli sɔngɔ jira kilo kelen na (Afiriki tilebinyanfan CFA franc/ kilo kelen na). \")) #Please indicate the selling price of maize per kg (in South African CFA francs/kg).\n",
    "                \n",
    "                    size_and_weight = int(input(\"I bɛna i ka mangoro hakɛ ni u girinya hakɛ dantigɛ cogo di? (1: A ka dɔgɔ kosɛbɛ ani a ka nɔgɔn, 2: A ka dɔgɔn ani a ka nɔgɔn, 3: A cɛmancɛ, 4: A ka bon kosɛbɛ ani a ka gɛlɛn, 5: A ka bon kosɛbɛ ani a ka gɛlɛn)\")) #How would you rate the average size and weight of your mangoes? (1: Very small and light, 2: Small and light, 3: Average, 4: Large and heavy, 5: Very large and heavy)\n",
    "                    color_and_ripeness = int(input(\"Ni aw ye sɛgɛsɛgɛli kɛ 1 fo 5 la, aw bɛna aw ka mangoro kulɛri ni u mɔcogo bɛɛ jateminɛ cogo di? (1: mɔbali, jɛman, 2: mɔbali jukɔrɔ, 3: mɔlen cɛmancɛ, 4: mɔlen, 5: mɔna dafalen, kulɛri ɲɛnama)\")) #On a scale from 1 to 5, how would you rate the overall color and ripeness of your mangoes? (1: Unripe, green, 2: Underripe, 3: Average ripeness, 4: Ripe, 5: Fully ripe, vibrant color)\n",
    "                    taste_and_flavor = int(input(\"I bɛna i ka mangoro diya n’a daji jate cogo di? (1: A ka nɔgɔn walima a nɔgɔlen, 2: A ka di dɔɔni, 3: A ka di dɔɔnin, 4: A ka di kosɛbɛ, 5: A ka di kosɛbɛ ani a ka di kosɛbɛ)\")) #How would you rate the taste and flavor of your mangoes? (1: Bland or sour, 2: Slightly sweet, 3: Moderately sweet, 4: Very sweet, 5: Exceptionally sweet and flavorful)\n",
    "                    texture_and_firmness = int(input(\"Ni aw ye sɛgɛsɛgɛli kɛ 1 fo 5 kan, aw bɛna aw ka mangorow kɛcogo n’u jɔcogo jateminɛ cogo di? (1: Past, 2: Soft, 3: Medium, 4: Firm, 5: A ka gɛlɛn kosɛbɛ ani a bɛ ji bɔ)\")) #On a scale of 1 to 5, how would you rate the texture and firmness of your mangoes? (1: Mushy, 2: Soft, 3: Average, 4: Firm, 5: Very firm and juicy)\n",
    "                    disease_and_pest_resistance = int(input(\"Aw ka mangoro jiriw bɛ se ka banaw ni fɛnɲɛnamafagalanw kɛlɛ cogo di? (1: A ka teli ka kɛ, 2: A ka teli ka kɛ, 3: A ka teli ka a kɛlɛ, 4: A ka teli ka a yɛrɛ tanga, 5: A ka teli)\")) #How well do your mango trees resist diseases and pests? (1: High susceptibility, 2: Moderate susceptibility, 3: Average resistance, 4: Moderate resistance, 5: High resistance)\n",
    "\n",
    "                    upper_limit_size_and_weight = 5 if size_and_weight == 5 else size_and_weight + 1\n",
    "                    upper_limit_color_and_ripeness = 5 if color_and_ripeness == 5 else color_and_ripeness + 1\n",
    "                    upper_limit_taste_and_flavor = 5 if taste_and_flavor == 5 else taste_and_flavor + 1                \n",
    "                    upper_limit_texture_and_firmness = 5 if texture_and_firmness == 5 else texture_and_firmness + 1\n",
    "                    upper_limit_disease_and_pest_resistance = 5 if disease_and_pest_resistance == 5 else disease_and_pest_resistance + 1\n",
    "                \n",
    "                    print(\"Aw ni ce aw ka kunnafoniw tila-tila la! Ka tile hɛrɛ!\") #Thank you for sharing your information! Have a nice day!\n",
    "\n",
    "                    collected_data = {\n",
    "                        'Phone_number': phone_number,\n",
    "                        'Name': name,\n",
    "                        'Farm_size': farm_size,\n",
    "                        'Workers': workers,\n",
    "                        'Production': production,\n",
    "                        'Price': price,\n",
    "                        'Lower_limit_production': production * 0.85,\n",
    "                        'Upper_limit_production': production * 1.15,\n",
    "                        'Lower_limit_size_and_weight': size_and_weight - 1,\n",
    "                        'Upper_limit_size_and_weight': upper_limit_size_and_weight,\n",
    "                        'Lower_limit_color_and_ripeness': color_and_ripeness - 1,\n",
    "                        'Upper_limit_color_and_ripeness': upper_limit_color_and_ripeness,\n",
    "                        'Lower_limit_taste_and_flavor': taste_and_flavor - 1,\n",
    "                        'Upper_limit_taste_and_flavor': upper_limit_taste_and_flavor,\n",
    "                        'Lower_limit_texture_and_firmness': texture_and_firmness - 1,\n",
    "                        'Upper_limit_texture_and_firmness': upper_limit_texture_and_firmness,\n",
    "                        'Lower_limit_disease_and_pest_resistance': disease_and_pest_resistance - 1,\n",
    "                        'Upper_limit_disease_and_pest_resistance': upper_limit_disease_and_pest_resistance,\n",
    "                        'Lower_limit_price': price * 0.85,\n",
    "                        'Upper_limit_price': price * 1.15\n",
    "                    }\n",
    "\n",
    "                    save_to_csv(collected_data)\n",
    "                    continue_outer_loop = False  \n",
    "                    break\n",
    "                    \n",
    "                else: \n",
    "                    print(\"Aw ye 0 walima 1 sɛbɛn.\") #Please enter either 0 or 1.\n",
    "                    continue\n",
    "                \n",
    "        else:\n",
    "            print(f\"Aw ye telefɔni nimɔrɔ sɛbɛn cogo bɛnnen na.\")  # Please type the phone number in the right format.\n",
    "            continue\n",
    "\n",
    "def save_to_csv(data):\n",
    "    with open('collected_data.csv', 'a', newline='', encoding='utf-8') as csvfile:\n",
    "        fieldnames = data.keys()\n",
    "        writer = csv.DictWriter(csvfile, fieldnames=fieldnames)\n",
    "        if csvfile.tell() == 0:\n",
    "            writer.writeheader()\n",
    "        writer.writerow(data)"
   ]
  },
  {
   "cell_type": "code",
   "execution_count": null,
   "id": "09642f18",
   "metadata": {},
   "outputs": [],
   "source": [
    "mango_madness()"
   ]
  }
 ],
 "metadata": {
  "kernelspec": {
   "display_name": "Python 3 (ipykernel)",
   "language": "python",
   "name": "python3"
  },
  "language_info": {
   "codemirror_mode": {
    "name": "ipython",
    "version": 3
   },
   "file_extension": ".py",
   "mimetype": "text/x-python",
   "name": "python",
   "nbconvert_exporter": "python",
   "pygments_lexer": "ipython3",
   "version": "3.11.4"
  }
 },
 "nbformat": 4,
 "nbformat_minor": 5
}
